{
  "nbformat": 4,
  "nbformat_minor": 0,
  "metadata": {
    "colab": {
      "provenance": []
    },
    "kernelspec": {
      "name": "python3",
      "display_name": "Python 3"
    },
    "language_info": {
      "name": "python"
    }
  },
  "cells": [
    {
      "cell_type": "markdown",
      "source": [
        "1. Import Libraries"
      ],
      "metadata": {
        "id": "YQo5euLBccal"
      }
    },
    {
      "cell_type": "code",
      "execution_count": null,
      "metadata": {
        "id": "CDuKja3kcUAC"
      },
      "outputs": [],
      "source": [
        "import requests\n",
        "import pandas as pd\n",
        "import numpy as np\n",
        "from sklearn.model_selection import train_test_split\n",
        "from sklearn.preprocessing import LabelEncoder\n",
        "from sklearn.ensemble import RandomForestClassifier, RandomForestRegressor\n",
        "from sklearn.metrics import accuracy_score, mean_squared_error\n",
        "from datetime import datetime, timedelta\n",
        "import pytz"
      ]
    },
    {
      "cell_type": "code",
      "source": [
        "API_KEY = '21276c37dacd7a3bce7bb37ba07855dd'\n",
        "BASE_URL = 'https://api.openweathermap.org/data/2.5/' #base url for making API requests"
      ],
      "metadata": {
        "id": "nWSwXBvpg5AG"
      },
      "execution_count": null,
      "outputs": []
    },
    {
      "cell_type": "markdown",
      "source": [
        "2. Fetch Current weather data"
      ],
      "metadata": {
        "id": "sz9-yY5NhF20"
      }
    },
    {
      "cell_type": "code",
      "source": [
        "def get_current_weather(city):\n",
        "  url = f\"{BASE_URL}weather?q={city}&appid={API_KEY}&units=metric\"\n",
        "  response = requests.get(url)\n",
        "  data = response.json()\n",
        "  return {\n",
        "      \"latitude\": data[\"coord\"][\"lat\"],\n",
        "      \"longitude\": data[\"coord\"][\"lon\"],\n",
        "      \"city\": data[\"name\"],\n",
        "      \"current_temp\": round(data[\"main\"][\"temp\"]), #celcius\n",
        "      \"feels_like\": round(data[\"main\"][\"feels_like\"]),#celcius\n",
        "      \"temp_min\": round(data[\"main\"][\"temp_min\"]),#celcius\n",
        "      \"temp_max\": round(data[\"main\"][\"temp_max\"]),#celcius\n",
        "      \"humidity\": round(data[\"main\"][\"humidity\"]),#percentage\n",
        "      \"wind_speed\": data[\"wind\"][\"speed\"],#m/s\n",
        "      \"description\": data[\"weather\"][0][\"description\"],\n",
        "      \"country\": data[\"sys\"][\"country\"],\n",
        "\n",
        "  }"
      ],
      "metadata": {
        "id": "Cac7GuhUhFgn"
      },
      "execution_count": null,
      "outputs": []
    },
    {
      "cell_type": "code",
      "source": [
        "get_current_weather(\"Nashik\")"
      ],
      "metadata": {
        "colab": {
          "base_uri": "https://localhost:8080/"
        },
        "id": "Z-YkULxP7nEI",
        "outputId": "283c5f8e-7f2e-4b7b-d8d3-8b724a1fd551"
      },
      "execution_count": null,
      "outputs": [
        {
          "output_type": "execute_result",
          "data": {
            "text/plain": [
              "{'latitude': 19.9833,\n",
              " 'longitude': 73.8,\n",
              " 'city': 'Nashik',\n",
              " 'current_temp': 36,\n",
              " 'feels_like': 34,\n",
              " 'temp_min': 36,\n",
              " 'temp_max': 36,\n",
              " 'humidity': 13,\n",
              " 'wind_speed': 1.32,\n",
              " 'description': 'clear sky',\n",
              " 'country': 'IN'}"
            ]
          },
          "metadata": {},
          "execution_count": 4
        }
      ]
    },
    {
      "cell_type": "markdown",
      "source": [
        "3. Read Historical Data"
      ],
      "metadata": {
        "id": "4IVROh7E704e"
      }
    },
    {
      "cell_type": "code",
      "source": [
        "def read_historical_data(filename):\n",
        "  df = pd.read_csv(filename)\n",
        "  df = df.dropna()\n",
        "  df = df.drop_duplicates()\n",
        "  return df"
      ],
      "metadata": {
        "id": "nhFSH36-7yEk"
      },
      "execution_count": null,
      "outputs": []
    },
    {
      "cell_type": "code",
      "source": [
        "read_historical_data(\"weather.csv\")"
      ],
      "metadata": {
        "colab": {
          "base_uri": "https://localhost:8080/",
          "height": 423
        },
        "id": "n2AEeWwA88Ww",
        "outputId": "69e150bd-cd68-4ab4-b375-37e6f985e6eb"
      },
      "execution_count": null,
      "outputs": [
        {
          "output_type": "execute_result",
          "data": {
            "text/plain": [
              "     MinTemp  MaxTemp WindGustDir  WindGustSpeed  Humidity  Pressure  Temp  \\\n",
              "0        8.0     24.3          NW           30.0        29    1015.0  23.6   \n",
              "1       14.0     26.9         ENE           39.0        36    1008.4  25.7   \n",
              "2       13.7     23.4          NW           85.0        69    1007.2  20.2   \n",
              "3       13.3     15.5          NW           54.0        56    1007.0  14.1   \n",
              "4        7.6     16.1         SSE           50.0        49    1018.5  15.4   \n",
              "..       ...      ...         ...            ...       ...       ...   ...   \n",
              "361      9.0     30.7         NNW           76.0        15    1010.8  30.0   \n",
              "362      7.1     28.4           N           48.0        22    1016.9  28.2   \n",
              "363     12.5     19.9         ESE           43.0        47    1022.8  18.3   \n",
              "364     12.5     26.9          NW           46.0        39    1016.2  25.9   \n",
              "365     12.3     30.2          NW           78.0        13    1009.2  28.6   \n",
              "\n",
              "    RainTomorrow  \n",
              "0            Yes  \n",
              "1            Yes  \n",
              "2            Yes  \n",
              "3            Yes  \n",
              "4             No  \n",
              "..           ...  \n",
              "361           No  \n",
              "362           No  \n",
              "363           No  \n",
              "364           No  \n",
              "365           No  \n",
              "\n",
              "[363 rows x 8 columns]"
            ],
            "text/html": [
              "\n",
              "  <div id=\"df-5d598537-8f19-445f-b4af-635333863626\" class=\"colab-df-container\">\n",
              "    <div>\n",
              "<style scoped>\n",
              "    .dataframe tbody tr th:only-of-type {\n",
              "        vertical-align: middle;\n",
              "    }\n",
              "\n",
              "    .dataframe tbody tr th {\n",
              "        vertical-align: top;\n",
              "    }\n",
              "\n",
              "    .dataframe thead th {\n",
              "        text-align: right;\n",
              "    }\n",
              "</style>\n",
              "<table border=\"1\" class=\"dataframe\">\n",
              "  <thead>\n",
              "    <tr style=\"text-align: right;\">\n",
              "      <th></th>\n",
              "      <th>MinTemp</th>\n",
              "      <th>MaxTemp</th>\n",
              "      <th>WindGustDir</th>\n",
              "      <th>WindGustSpeed</th>\n",
              "      <th>Humidity</th>\n",
              "      <th>Pressure</th>\n",
              "      <th>Temp</th>\n",
              "      <th>RainTomorrow</th>\n",
              "    </tr>\n",
              "  </thead>\n",
              "  <tbody>\n",
              "    <tr>\n",
              "      <th>0</th>\n",
              "      <td>8.0</td>\n",
              "      <td>24.3</td>\n",
              "      <td>NW</td>\n",
              "      <td>30.0</td>\n",
              "      <td>29</td>\n",
              "      <td>1015.0</td>\n",
              "      <td>23.6</td>\n",
              "      <td>Yes</td>\n",
              "    </tr>\n",
              "    <tr>\n",
              "      <th>1</th>\n",
              "      <td>14.0</td>\n",
              "      <td>26.9</td>\n",
              "      <td>ENE</td>\n",
              "      <td>39.0</td>\n",
              "      <td>36</td>\n",
              "      <td>1008.4</td>\n",
              "      <td>25.7</td>\n",
              "      <td>Yes</td>\n",
              "    </tr>\n",
              "    <tr>\n",
              "      <th>2</th>\n",
              "      <td>13.7</td>\n",
              "      <td>23.4</td>\n",
              "      <td>NW</td>\n",
              "      <td>85.0</td>\n",
              "      <td>69</td>\n",
              "      <td>1007.2</td>\n",
              "      <td>20.2</td>\n",
              "      <td>Yes</td>\n",
              "    </tr>\n",
              "    <tr>\n",
              "      <th>3</th>\n",
              "      <td>13.3</td>\n",
              "      <td>15.5</td>\n",
              "      <td>NW</td>\n",
              "      <td>54.0</td>\n",
              "      <td>56</td>\n",
              "      <td>1007.0</td>\n",
              "      <td>14.1</td>\n",
              "      <td>Yes</td>\n",
              "    </tr>\n",
              "    <tr>\n",
              "      <th>4</th>\n",
              "      <td>7.6</td>\n",
              "      <td>16.1</td>\n",
              "      <td>SSE</td>\n",
              "      <td>50.0</td>\n",
              "      <td>49</td>\n",
              "      <td>1018.5</td>\n",
              "      <td>15.4</td>\n",
              "      <td>No</td>\n",
              "    </tr>\n",
              "    <tr>\n",
              "      <th>...</th>\n",
              "      <td>...</td>\n",
              "      <td>...</td>\n",
              "      <td>...</td>\n",
              "      <td>...</td>\n",
              "      <td>...</td>\n",
              "      <td>...</td>\n",
              "      <td>...</td>\n",
              "      <td>...</td>\n",
              "    </tr>\n",
              "    <tr>\n",
              "      <th>361</th>\n",
              "      <td>9.0</td>\n",
              "      <td>30.7</td>\n",
              "      <td>NNW</td>\n",
              "      <td>76.0</td>\n",
              "      <td>15</td>\n",
              "      <td>1010.8</td>\n",
              "      <td>30.0</td>\n",
              "      <td>No</td>\n",
              "    </tr>\n",
              "    <tr>\n",
              "      <th>362</th>\n",
              "      <td>7.1</td>\n",
              "      <td>28.4</td>\n",
              "      <td>N</td>\n",
              "      <td>48.0</td>\n",
              "      <td>22</td>\n",
              "      <td>1016.9</td>\n",
              "      <td>28.2</td>\n",
              "      <td>No</td>\n",
              "    </tr>\n",
              "    <tr>\n",
              "      <th>363</th>\n",
              "      <td>12.5</td>\n",
              "      <td>19.9</td>\n",
              "      <td>ESE</td>\n",
              "      <td>43.0</td>\n",
              "      <td>47</td>\n",
              "      <td>1022.8</td>\n",
              "      <td>18.3</td>\n",
              "      <td>No</td>\n",
              "    </tr>\n",
              "    <tr>\n",
              "      <th>364</th>\n",
              "      <td>12.5</td>\n",
              "      <td>26.9</td>\n",
              "      <td>NW</td>\n",
              "      <td>46.0</td>\n",
              "      <td>39</td>\n",
              "      <td>1016.2</td>\n",
              "      <td>25.9</td>\n",
              "      <td>No</td>\n",
              "    </tr>\n",
              "    <tr>\n",
              "      <th>365</th>\n",
              "      <td>12.3</td>\n",
              "      <td>30.2</td>\n",
              "      <td>NW</td>\n",
              "      <td>78.0</td>\n",
              "      <td>13</td>\n",
              "      <td>1009.2</td>\n",
              "      <td>28.6</td>\n",
              "      <td>No</td>\n",
              "    </tr>\n",
              "  </tbody>\n",
              "</table>\n",
              "<p>363 rows × 8 columns</p>\n",
              "</div>\n",
              "    <div class=\"colab-df-buttons\">\n",
              "\n",
              "  <div class=\"colab-df-container\">\n",
              "    <button class=\"colab-df-convert\" onclick=\"convertToInteractive('df-5d598537-8f19-445f-b4af-635333863626')\"\n",
              "            title=\"Convert this dataframe to an interactive table.\"\n",
              "            style=\"display:none;\">\n",
              "\n",
              "  <svg xmlns=\"http://www.w3.org/2000/svg\" height=\"24px\" viewBox=\"0 -960 960 960\">\n",
              "    <path d=\"M120-120v-720h720v720H120Zm60-500h600v-160H180v160Zm220 220h160v-160H400v160Zm0 220h160v-160H400v160ZM180-400h160v-160H180v160Zm440 0h160v-160H620v160ZM180-180h160v-160H180v160Zm440 0h160v-160H620v160Z\"/>\n",
              "  </svg>\n",
              "    </button>\n",
              "\n",
              "  <style>\n",
              "    .colab-df-container {\n",
              "      display:flex;\n",
              "      gap: 12px;\n",
              "    }\n",
              "\n",
              "    .colab-df-convert {\n",
              "      background-color: #E8F0FE;\n",
              "      border: none;\n",
              "      border-radius: 50%;\n",
              "      cursor: pointer;\n",
              "      display: none;\n",
              "      fill: #1967D2;\n",
              "      height: 32px;\n",
              "      padding: 0 0 0 0;\n",
              "      width: 32px;\n",
              "    }\n",
              "\n",
              "    .colab-df-convert:hover {\n",
              "      background-color: #E2EBFA;\n",
              "      box-shadow: 0px 1px 2px rgba(60, 64, 67, 0.3), 0px 1px 3px 1px rgba(60, 64, 67, 0.15);\n",
              "      fill: #174EA6;\n",
              "    }\n",
              "\n",
              "    .colab-df-buttons div {\n",
              "      margin-bottom: 4px;\n",
              "    }\n",
              "\n",
              "    [theme=dark] .colab-df-convert {\n",
              "      background-color: #3B4455;\n",
              "      fill: #D2E3FC;\n",
              "    }\n",
              "\n",
              "    [theme=dark] .colab-df-convert:hover {\n",
              "      background-color: #434B5C;\n",
              "      box-shadow: 0px 1px 3px 1px rgba(0, 0, 0, 0.15);\n",
              "      filter: drop-shadow(0px 1px 2px rgba(0, 0, 0, 0.3));\n",
              "      fill: #FFFFFF;\n",
              "    }\n",
              "  </style>\n",
              "\n",
              "    <script>\n",
              "      const buttonEl =\n",
              "        document.querySelector('#df-5d598537-8f19-445f-b4af-635333863626 button.colab-df-convert');\n",
              "      buttonEl.style.display =\n",
              "        google.colab.kernel.accessAllowed ? 'block' : 'none';\n",
              "\n",
              "      async function convertToInteractive(key) {\n",
              "        const element = document.querySelector('#df-5d598537-8f19-445f-b4af-635333863626');\n",
              "        const dataTable =\n",
              "          await google.colab.kernel.invokeFunction('convertToInteractive',\n",
              "                                                    [key], {});\n",
              "        if (!dataTable) return;\n",
              "\n",
              "        const docLinkHtml = 'Like what you see? Visit the ' +\n",
              "          '<a target=\"_blank\" href=https://colab.research.google.com/notebooks/data_table.ipynb>data table notebook</a>'\n",
              "          + ' to learn more about interactive tables.';\n",
              "        element.innerHTML = '';\n",
              "        dataTable['output_type'] = 'display_data';\n",
              "        await google.colab.output.renderOutput(dataTable, element);\n",
              "        const docLink = document.createElement('div');\n",
              "        docLink.innerHTML = docLinkHtml;\n",
              "        element.appendChild(docLink);\n",
              "      }\n",
              "    </script>\n",
              "  </div>\n",
              "\n",
              "\n",
              "<div id=\"df-59ba59d8-405f-4e81-a501-2b188c258295\">\n",
              "  <button class=\"colab-df-quickchart\" onclick=\"quickchart('df-59ba59d8-405f-4e81-a501-2b188c258295')\"\n",
              "            title=\"Suggest charts\"\n",
              "            style=\"display:none;\">\n",
              "\n",
              "<svg xmlns=\"http://www.w3.org/2000/svg\" height=\"24px\"viewBox=\"0 0 24 24\"\n",
              "     width=\"24px\">\n",
              "    <g>\n",
              "        <path d=\"M19 3H5c-1.1 0-2 .9-2 2v14c0 1.1.9 2 2 2h14c1.1 0 2-.9 2-2V5c0-1.1-.9-2-2-2zM9 17H7v-7h2v7zm4 0h-2V7h2v10zm4 0h-2v-4h2v4z\"/>\n",
              "    </g>\n",
              "</svg>\n",
              "  </button>\n",
              "\n",
              "<style>\n",
              "  .colab-df-quickchart {\n",
              "      --bg-color: #E8F0FE;\n",
              "      --fill-color: #1967D2;\n",
              "      --hover-bg-color: #E2EBFA;\n",
              "      --hover-fill-color: #174EA6;\n",
              "      --disabled-fill-color: #AAA;\n",
              "      --disabled-bg-color: #DDD;\n",
              "  }\n",
              "\n",
              "  [theme=dark] .colab-df-quickchart {\n",
              "      --bg-color: #3B4455;\n",
              "      --fill-color: #D2E3FC;\n",
              "      --hover-bg-color: #434B5C;\n",
              "      --hover-fill-color: #FFFFFF;\n",
              "      --disabled-bg-color: #3B4455;\n",
              "      --disabled-fill-color: #666;\n",
              "  }\n",
              "\n",
              "  .colab-df-quickchart {\n",
              "    background-color: var(--bg-color);\n",
              "    border: none;\n",
              "    border-radius: 50%;\n",
              "    cursor: pointer;\n",
              "    display: none;\n",
              "    fill: var(--fill-color);\n",
              "    height: 32px;\n",
              "    padding: 0;\n",
              "    width: 32px;\n",
              "  }\n",
              "\n",
              "  .colab-df-quickchart:hover {\n",
              "    background-color: var(--hover-bg-color);\n",
              "    box-shadow: 0 1px 2px rgba(60, 64, 67, 0.3), 0 1px 3px 1px rgba(60, 64, 67, 0.15);\n",
              "    fill: var(--button-hover-fill-color);\n",
              "  }\n",
              "\n",
              "  .colab-df-quickchart-complete:disabled,\n",
              "  .colab-df-quickchart-complete:disabled:hover {\n",
              "    background-color: var(--disabled-bg-color);\n",
              "    fill: var(--disabled-fill-color);\n",
              "    box-shadow: none;\n",
              "  }\n",
              "\n",
              "  .colab-df-spinner {\n",
              "    border: 2px solid var(--fill-color);\n",
              "    border-color: transparent;\n",
              "    border-bottom-color: var(--fill-color);\n",
              "    animation:\n",
              "      spin 1s steps(1) infinite;\n",
              "  }\n",
              "\n",
              "  @keyframes spin {\n",
              "    0% {\n",
              "      border-color: transparent;\n",
              "      border-bottom-color: var(--fill-color);\n",
              "      border-left-color: var(--fill-color);\n",
              "    }\n",
              "    20% {\n",
              "      border-color: transparent;\n",
              "      border-left-color: var(--fill-color);\n",
              "      border-top-color: var(--fill-color);\n",
              "    }\n",
              "    30% {\n",
              "      border-color: transparent;\n",
              "      border-left-color: var(--fill-color);\n",
              "      border-top-color: var(--fill-color);\n",
              "      border-right-color: var(--fill-color);\n",
              "    }\n",
              "    40% {\n",
              "      border-color: transparent;\n",
              "      border-right-color: var(--fill-color);\n",
              "      border-top-color: var(--fill-color);\n",
              "    }\n",
              "    60% {\n",
              "      border-color: transparent;\n",
              "      border-right-color: var(--fill-color);\n",
              "    }\n",
              "    80% {\n",
              "      border-color: transparent;\n",
              "      border-right-color: var(--fill-color);\n",
              "      border-bottom-color: var(--fill-color);\n",
              "    }\n",
              "    90% {\n",
              "      border-color: transparent;\n",
              "      border-bottom-color: var(--fill-color);\n",
              "    }\n",
              "  }\n",
              "</style>\n",
              "\n",
              "  <script>\n",
              "    async function quickchart(key) {\n",
              "      const quickchartButtonEl =\n",
              "        document.querySelector('#' + key + ' button');\n",
              "      quickchartButtonEl.disabled = true;  // To prevent multiple clicks.\n",
              "      quickchartButtonEl.classList.add('colab-df-spinner');\n",
              "      try {\n",
              "        const charts = await google.colab.kernel.invokeFunction(\n",
              "            'suggestCharts', [key], {});\n",
              "      } catch (error) {\n",
              "        console.error('Error during call to suggestCharts:', error);\n",
              "      }\n",
              "      quickchartButtonEl.classList.remove('colab-df-spinner');\n",
              "      quickchartButtonEl.classList.add('colab-df-quickchart-complete');\n",
              "    }\n",
              "    (() => {\n",
              "      let quickchartButtonEl =\n",
              "        document.querySelector('#df-59ba59d8-405f-4e81-a501-2b188c258295 button');\n",
              "      quickchartButtonEl.style.display =\n",
              "        google.colab.kernel.accessAllowed ? 'block' : 'none';\n",
              "    })();\n",
              "  </script>\n",
              "</div>\n",
              "\n",
              "    </div>\n",
              "  </div>\n"
            ],
            "application/vnd.google.colaboratory.intrinsic+json": {
              "type": "dataframe",
              "summary": "{\n  \"name\": \"read_historical_data(\\\"weather\",\n  \"rows\": 363,\n  \"fields\": [\n    {\n      \"column\": \"MinTemp\",\n      \"properties\": {\n        \"dtype\": \"number\",\n        \"std\": 6.027620183318595,\n        \"min\": -5.3,\n        \"max\": 20.9,\n        \"num_unique_values\": 179,\n        \"samples\": [\n          13.9,\n          11.7,\n          18.2\n        ],\n        \"semantic_type\": \"\",\n        \"description\": \"\"\n      }\n    },\n    {\n      \"column\": \"MaxTemp\",\n      \"properties\": {\n        \"dtype\": \"number\",\n        \"std\": 6.702029734569137,\n        \"min\": 7.6,\n        \"max\": 35.8,\n        \"num_unique_values\": 186,\n        \"samples\": [\n          19.0,\n          10.7,\n          9.3\n        ],\n        \"semantic_type\": \"\",\n        \"description\": \"\"\n      }\n    },\n    {\n      \"column\": \"WindGustDir\",\n      \"properties\": {\n        \"dtype\": \"category\",\n        \"num_unique_values\": 16,\n        \"samples\": [\n          \"NW\",\n          \"ENE\",\n          \"S\"\n        ],\n        \"semantic_type\": \"\",\n        \"description\": \"\"\n      }\n    },\n    {\n      \"column\": \"WindGustSpeed\",\n      \"properties\": {\n        \"dtype\": \"number\",\n        \"std\": 13.051231445874304,\n        \"min\": 13.0,\n        \"max\": 98.0,\n        \"num_unique_values\": 35,\n        \"samples\": [\n          17.0,\n          59.0,\n          83.0\n        ],\n        \"semantic_type\": \"\",\n        \"description\": \"\"\n      }\n    },\n    {\n      \"column\": \"Humidity\",\n      \"properties\": {\n        \"dtype\": \"number\",\n        \"std\": 16,\n        \"min\": 13,\n        \"max\": 96,\n        \"num_unique_values\": 74,\n        \"samples\": [\n          49,\n          70,\n          72\n        ],\n        \"semantic_type\": \"\",\n        \"description\": \"\"\n      }\n    },\n    {\n      \"column\": \"Pressure\",\n      \"properties\": {\n        \"dtype\": \"number\",\n        \"std\": 6.463306824998642,\n        \"min\": 996.8,\n        \"max\": 1033.2,\n        \"num_unique_values\": 192,\n        \"samples\": [\n          1008.3,\n          1027.1,\n          997.5\n        ],\n        \"semantic_type\": \"\",\n        \"description\": \"\"\n      }\n    },\n    {\n      \"column\": \"Temp\",\n      \"properties\": {\n        \"dtype\": \"number\",\n        \"std\": 6.653636189445386,\n        \"min\": 5.1,\n        \"max\": 34.5,\n        \"num_unique_values\": 200,\n        \"samples\": [\n          30.0,\n          29.8,\n          25.2\n        ],\n        \"semantic_type\": \"\",\n        \"description\": \"\"\n      }\n    },\n    {\n      \"column\": \"RainTomorrow\",\n      \"properties\": {\n        \"dtype\": \"category\",\n        \"num_unique_values\": 2,\n        \"samples\": [\n          \"No\",\n          \"Yes\"\n        ],\n        \"semantic_type\": \"\",\n        \"description\": \"\"\n      }\n    }\n  ]\n}"
            }
          },
          "metadata": {},
          "execution_count": 6
        }
      ]
    },
    {
      "cell_type": "markdown",
      "source": [
        "4. Prepare data for training"
      ],
      "metadata": {
        "id": "VVix-nE09UQQ"
      }
    },
    {
      "cell_type": "code",
      "source": [
        "def prepare_data(data):\n",
        "  le = LabelEncoder()\n",
        "  data['WindGustDir'] = le.fit_transform(data['WindGustDir'])\n",
        "  data['RainTomorrow'] = le.fit_transform(data['RainTomorrow'])\n",
        "\n",
        "  #define feature and target variables\n",
        "  X = data[['MinTemp', 'MaxTemp', 'WindGustSpeed', 'Humidity', 'Temp']]\n",
        "  y = data['RainTomorrow']\n",
        "\n",
        "  return X, y, le"
      ],
      "metadata": {
        "id": "OibtbsW69TVW"
      },
      "execution_count": null,
      "outputs": []
    },
    {
      "cell_type": "markdown",
      "source": [
        "5. Train Rain Prediction Model"
      ],
      "metadata": {
        "id": "PYqLS-YaDS0b"
      }
    },
    {
      "cell_type": "code",
      "source": [
        "def train_rain_model(X, y):\n",
        "  X_train, X_test, y_train, y_test = train_test_split(X, y, test_size=0.2, random_state=42)\n",
        "  model = RandomForestClassifier(n_estimators=100, random_state=42)\n",
        "  model.fit(X_train, y_train)\n",
        "\n",
        "  y_pred = model.predict(X_test)\n",
        "  accuracy = accuracy_score(y_test, y_pred)\n",
        "  MSE = mean_squared_error(y_test, y_pred)\n",
        "  print(f\"Accuracy: {accuracy}\")\n",
        "  print(f\"Mean Squared Error: {MSE}\")\n",
        "\n",
        "  return model"
      ],
      "metadata": {
        "id": "C4Cs-c1fDSfJ"
      },
      "execution_count": null,
      "outputs": []
    },
    {
      "cell_type": "markdown",
      "source": [
        "6. Prepare Regression Data(temperature, humidity, etc.)"
      ],
      "metadata": {
        "id": "gH6voTaJfzXg"
      }
    },
    {
      "cell_type": "code",
      "source": [
        "def prepare_regression_data(data, feature):\n",
        "  X, y = [], [] #initialize list for feature and target values\n",
        "\n",
        "  for i in range(len(data) - 1):\n",
        "    X.append(data[feature].iloc[i])\n",
        "    y.append(data[feature].iloc[i + 1])\n",
        "\n",
        "  X = np.array(X).reshape(-1, 1)\n",
        "  y = np.array(y)\n",
        "\n",
        "  return X, y\n"
      ],
      "metadata": {
        "id": "klMOkDVMfoa9"
      },
      "execution_count": null,
      "outputs": []
    },
    {
      "cell_type": "markdown",
      "source": [
        "7. Train Regression Model"
      ],
      "metadata": {
        "id": "9OGTGmufhRvC"
      }
    },
    {
      "cell_type": "code",
      "source": [
        "def train_regression_model(X, y):\n",
        "  model = RandomForestRegressor(n_estimators=100, random_state=42)\n",
        "  model.fit(X, y)\n",
        "\n",
        "  return model"
      ],
      "metadata": {
        "id": "GZ3NX7CYguot"
      },
      "execution_count": null,
      "outputs": []
    },
    {
      "cell_type": "markdown",
      "source": [
        "8. Predicting Future Values"
      ],
      "metadata": {
        "id": "BpskGMtTU-0b"
      }
    },
    {
      "cell_type": "code",
      "source": [
        "def predict_future(model, current_value):\n",
        "  predictions = [current_value]\n",
        "\n",
        "  for i in range(5):\n",
        "    next_value = model.predict(np.array([[predictions[-1]]]))\n",
        "    predictions.append(next_value[0])\n",
        "\n",
        "  return predictions[1:]"
      ],
      "metadata": {
        "id": "psyhS94HU_IT"
      },
      "execution_count": null,
      "outputs": []
    },
    {
      "cell_type": "markdown",
      "source": [
        "9. Weather Analysis Function"
      ],
      "metadata": {
        "id": "fFeA1vAxx46S"
      }
    },
    {
      "cell_type": "code",
      "source": [
        "from time import timezone\n",
        "def weather_view():\n",
        "  city = input(\"Enter city name: \")\n",
        "  current_weather = get_current_weather(city)\n",
        "\n",
        "  #Loading historical data.\n",
        "  historical_data = read_historical_data('/content/weather.csv')\n",
        "\n",
        "  #Prepare and train the rain prediction model.\n",
        "  X, y, le = prepare_data(historical_data)\n",
        "\n",
        "  rain_model = train_rain_model(X, y)\n",
        "\n",
        "  current_data = {\n",
        "\n",
        "      'MinTemp': current_weather['temp_min'],\n",
        "      'MaxTemp': current_weather['temp_max'],\n",
        "\n",
        "      #'Precipitaion': current_weather['precipitation'],\n",
        "      'WindGustSpeed': current_weather['wind_speed'],\n",
        "      'Humidity': current_weather['humidity'],\n",
        "      'Temp': current_weather['current_temp'],\n",
        "  }\n",
        "\n",
        "  current_df = pd.DataFrame([current_data])\n",
        "\n",
        "  #Rain prediction.\n",
        "  rain_prediction = rain_model.predict(current_df)[0]\n",
        "\n",
        "  #Preparing regression model for Temperature and Humidity.\n",
        "  X_temp, y_temp = prepare_regression_data(historical_data, 'Temp')\n",
        "  X_humidity, y_humidity = prepare_regression_data(historical_data, 'Humidity')\n",
        "\n",
        "  temp_model = train_regression_model(X_temp, y_temp)\n",
        "  humidity_model = train_regression_model(X_humidity, y_humidity)\n",
        "\n",
        "  #Predicting future Temperature and Humidity.\n",
        "  future_temp = predict_future(temp_model, current_weather['current_temp'])\n",
        "  future_humidity = predict_future(humidity_model, current_weather['humidity'])\n",
        "\n",
        "  #Preparing time for future predictions.\n",
        "  timezone = pytz.timezone('Asia/Kolkata')\n",
        "  current_time = datetime.now(timezone)\n",
        "  next_hour = current_time + timedelta(hours=1)\n",
        "  next_hour = next_hour.replace(minute=0, second=0, microsecond=0)\n",
        "\n",
        "  future_times = [(next_hour + timedelta(hours=i)).strftime(\"%H:00\") for i in range(1, 6)]\n",
        "\n",
        "  #Display results.\n",
        "  print(f\"City: {city}, {current_weather['city']}\")\n",
        "  print(f\"Current Temperature: {current_weather['current_temp']}°C\")\n",
        "  print(f\"Feels Like: {current_weather['feels_like']}°C\")\n",
        "  print(f\"Min Temperature: {current_weather['temp_min']}°C\")\n",
        "  print(f\"Max Temperature: {current_weather['temp_max']}°C\")\n",
        "  print(f\"Current Humidity: {current_weather['humidity']}%\")\n",
        "  print(f\"Weather Prediction: {current_weather['description']}\")\n",
        "  print(f\"Rain Prediction: {'Yes' if rain_prediction else 'No'}\")\n",
        "\n",
        "  print(\"\\nFuture Temperature Predictions:\")\n",
        "\n",
        "  for time, temp in zip(future_times, future_temp):\n",
        "    print(f\"{time}: {round(temp, 1)}°C\")\n",
        "\n",
        "  print(\"\\nFuture Humidity Predictions:\")\n",
        "\n",
        "  for time, humidity in zip(future_times, future_humidity):\n",
        "    print(f\"{time}: {round(humidity, 1)}%\")\n",
        "\n",
        "\n",
        "weather_view()\n"
      ],
      "metadata": {
        "colab": {
          "base_uri": "https://localhost:8080/"
        },
        "id": "2nu2HlcAx5Qy",
        "outputId": "ccc664de-8adc-43d4-8a8e-c236c8cd8234"
      },
      "execution_count": null,
      "outputs": [
        {
          "output_type": "stream",
          "name": "stdout",
          "text": [
            "Enter city name: Jalgaon\n",
            "Accuracy: 0.863013698630137\n",
            "Mean Squared Error: 0.136986301369863\n",
            "City: Jalgaon, Jalgaon\n",
            "Current Temperature: 39°C\n",
            "Feels Like: 36°C\n",
            "Min Temperature: 39°C\n",
            "Max Temperature: 39°C\n",
            "Current Humidity: 10%\n",
            "Weather Prediction: clear sky\n",
            "Rain Prediction: No\n",
            "\n",
            "Future Temperature Predictions:\n",
            "18:00: 33.1°C\n",
            "19:00: 25.1°C\n",
            "20:00: 20.1°C\n",
            "21:00: 16.6°C\n",
            "22:00: 14.4°C\n",
            "\n",
            "Future Humidity Predictions:\n",
            "18:00: 44.8%\n",
            "19:00: 46.2%\n",
            "20:00: 48.2%\n",
            "21:00: 53.7%\n",
            "22:00: 58.1%\n"
          ]
        }
      ]
    }
  ]
}